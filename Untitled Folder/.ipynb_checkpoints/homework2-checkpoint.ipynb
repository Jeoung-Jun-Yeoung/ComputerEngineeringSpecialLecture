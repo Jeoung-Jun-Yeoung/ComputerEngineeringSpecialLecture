{
 "cells": [
  {
   "cell_type": "code",
   "execution_count": null,
   "id": "67e8a24f",
   "metadata": {},
   "outputs": [],
   "source": [
    "import numpy as np\n",
    "\n",
    "def func2(f,input_obj):\n",
    "    x = input_obj[0]\n",
    "    y = input_obj[1]\n",
    "    return (2*x)+(3*x*y)+(np.power(y,3))\n",
    "\n",
    "def numerical_derivative(f,x):\n",
    "    delta_x = 1e-4\n",
    "    \n",
    "    grad = np.zeros_like(x)\n",
    "    \n",
    "    it = np.nditer(x,flags=['multi_index'],op_flags=['readwrite'])\n",
    "    \n",
    "    while not it.finished:\n",
    "        idx = it.multi_index\n",
    "        temp_val = x[idx]\n",
    "        \n",
    "        x[idx] = float(temp_val)+delta_x\n",
    "        fx1 = f(x)\n",
    "        \n",
    "        x[idx] = float(temp_val)-delta_x\n",
    "        fx2 = f(x)\n",
    "        \n",
    "        grad[idx] = (fx1 - fx2) / (2*delta_x)\n",
    "        \n",
    "        x[idx] = temp_val\n",
    "        \n",
    "        it.iternext()\n",
    "    return grad\n",
    "\n",
    "input = np.array([1.0,2.0])\n",
    "\n",
    "ret = numerical_derivative(func2,input)\n",
    "    \n",
    "\n",
    "\n",
    "# f(x,y) = 2x+3xy+y3 에대하여수치미분코드 numerical_derivative 함수를 이용해서\n",
    "# f′ 1.0, 2.0 계산하는코드를구현하시오"
   ]
  }
 ],
 "metadata": {
  "kernelspec": {
   "display_name": "Python 3 (ipykernel)",
   "language": "python",
   "name": "python3"
  },
  "language_info": {
   "codemirror_mode": {
    "name": "ipython",
    "version": 3
   },
   "file_extension": ".py",
   "mimetype": "text/x-python",
   "name": "python",
   "nbconvert_exporter": "python",
   "pygments_lexer": "ipython3",
   "version": "3.9.6"
  }
 },
 "nbformat": 4,
 "nbformat_minor": 5
}
