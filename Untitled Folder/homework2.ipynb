{
 "cells": [
  {
   "cell_type": "code",
   "execution_count": 1,
   "id": "67e8a24f",
   "metadata": {},
   "outputs": [
    {
     "ename": "TypeError",
     "evalue": "func2() missing 1 required positional argument: 'input_obj'",
     "output_type": "error",
     "traceback": [
      "\u001b[0;31m---------------------------------------------------------------------------\u001b[0m",
      "\u001b[0;31mTypeError\u001b[0m                                 Traceback (most recent call last)",
      "Input \u001b[0;32mIn [1]\u001b[0m, in \u001b[0;36m<cell line: 34>\u001b[0;34m()\u001b[0m\n\u001b[1;32m     30\u001b[0m     \u001b[38;5;28;01mreturn\u001b[39;00m grad\n\u001b[1;32m     32\u001b[0m \u001b[38;5;28minput\u001b[39m \u001b[38;5;241m=\u001b[39m np\u001b[38;5;241m.\u001b[39marray([\u001b[38;5;241m1.0\u001b[39m,\u001b[38;5;241m2.0\u001b[39m])\n\u001b[0;32m---> 34\u001b[0m ret \u001b[38;5;241m=\u001b[39m \u001b[43mnumerical_derivative\u001b[49m\u001b[43m(\u001b[49m\u001b[43mfunc2\u001b[49m\u001b[43m,\u001b[49m\u001b[38;5;28;43minput\u001b[39;49m\u001b[43m)\u001b[49m\n",
      "Input \u001b[0;32mIn [1]\u001b[0m, in \u001b[0;36mnumerical_derivative\u001b[0;34m(f, x)\u001b[0m\n\u001b[1;32m     17\u001b[0m temp_val \u001b[38;5;241m=\u001b[39m x[idx]\n\u001b[1;32m     19\u001b[0m x[idx] \u001b[38;5;241m=\u001b[39m \u001b[38;5;28mfloat\u001b[39m(temp_val)\u001b[38;5;241m+\u001b[39mdelta_x\n\u001b[0;32m---> 20\u001b[0m fx1 \u001b[38;5;241m=\u001b[39m \u001b[43mf\u001b[49m\u001b[43m(\u001b[49m\u001b[43mx\u001b[49m\u001b[43m)\u001b[49m\n\u001b[1;32m     22\u001b[0m x[idx] \u001b[38;5;241m=\u001b[39m \u001b[38;5;28mfloat\u001b[39m(temp_val)\u001b[38;5;241m-\u001b[39mdelta_x\n\u001b[1;32m     23\u001b[0m fx2 \u001b[38;5;241m=\u001b[39m f(x)\n",
      "\u001b[0;31mTypeError\u001b[0m: func2() missing 1 required positional argument: 'input_obj'"
     ]
    }
   ],
   "source": [
    "import numpy as np\n",
    "\n",
    "def func2(f,input_obj):\n",
    "    x = input_obj[0]\n",
    "    y = input_obj[1]\n",
    "    return (2*x)+(3*x*y)+(np.power(y,3))\n",
    "\n",
    "def numerical_derivative(f,x):\n",
    "    delta_x = 1e-4\n",
    "    \n",
    "    grad = np.zeros_like(x)\n",
    "    \n",
    "    it = np.nditer(x,flags=['multi_index'],op_flags=['readwrite'])\n",
    "    \n",
    "    while not it.finished:\n",
    "        idx = it.multi_index\n",
    "        temp_val = x[idx]\n",
    "        \n",
    "        x[idx] = float(temp_val)+delta_x\n",
    "        fx1 = f(x)\n",
    "        \n",
    "        x[idx] = float(temp_val)-delta_x\n",
    "        fx2 = f(x)\n",
    "        \n",
    "        grad[idx] = (fx1 - fx2) / (2*delta_x)\n",
    "        \n",
    "        x[idx] = temp_val\n",
    "        \n",
    "        it.iternext()\n",
    "    return grad\n",
    "\n",
    "input = np.array([1.0,2.0])\n",
    "\n",
    "ret = numerical_derivative(func2,input)\n",
    "    \n",
    "\n",
    "\n",
    "# f(x,y) = 2x+3xy+y3 에대하여수치미분코드 numerical_derivative 함수를 이용해서\n",
    "# f′ 1.0, 2.0 계산하는코드를구현하시오"
   ]
  },
  {
   "cell_type": "code",
   "execution_count": null,
   "id": "0d2bd763",
   "metadata": {},
   "outputs": [],
   "source": []
  }
 ],
 "metadata": {
  "kernelspec": {
   "display_name": "Python 3 (ipykernel)",
   "language": "python",
   "name": "python3"
  },
  "language_info": {
   "codemirror_mode": {
    "name": "ipython",
    "version": 3
   },
   "file_extension": ".py",
   "mimetype": "text/x-python",
   "name": "python",
   "nbconvert_exporter": "python",
   "pygments_lexer": "ipython3",
   "version": "3.9.6"
  }
 },
 "nbformat": 4,
 "nbformat_minor": 5
}
