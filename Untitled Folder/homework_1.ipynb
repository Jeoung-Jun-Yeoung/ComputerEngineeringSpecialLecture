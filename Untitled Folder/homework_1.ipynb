{
 "cells": [
  {
   "cell_type": "code",
   "execution_count": 22,
   "id": "3e288dea",
   "metadata": {},
   "outputs": [
    {
     "name": "stdout",
     "output_type": "stream",
     "text": [
      "debug 1. initial input variable =  [3.]\n",
      "debug 2. initial grad =  [0.]\n",
      "========================================\n",
      "debug 3. idx =  (0,)  x[idx] =  3.0\n",
      "debug 4. grad[idx] =  6.000000000012662\n",
      "debug 5. grad =  [6.]\n",
      "========================================\n",
      "type(ret) =  <class 'numpy.ndarray'> , ret_val =  [6.]\n"
     ]
    }
   ],
   "source": [
    "import numpy as np\n",
    "\n",
    "def func1(w):\n",
    "    x = w\n",
    "    return x**2\n",
    "\n",
    "def numerical_derivative(f,x):\n",
    "    delta_x = 1e-4\n",
    "    print(\"debug 1. initial input variable = \",x)\n",
    "    grad = np.zeros_like(x)\n",
    "    print(\"debug 2. initial grad = \",grad)\n",
    "    print(\"========================================\")\n",
    "    it = np.nditer(x, flags=['multi_index'], op_flags=['readwrite'])\n",
    "    \n",
    "    while not it.finished:\n",
    "        idx = it.multi_index\n",
    "        print(\"debug 3. idx = \",idx,\" x[idx] = \",x[idx])\n",
    "        \n",
    "        temp_val = x[idx]\n",
    "        x[idx] = float(temp_val) + delta_x\n",
    "        fx1 = f(x)\n",
    "        \n",
    "        x[idx] = float(temp_val) - delta_x\n",
    "        fx2 = f(x)\n",
    "        \n",
    "        grad[idx] = (fx1 - fx2) / (2*delta_x)\n",
    "        print(\"debug 4. grad[idx] = \",grad[idx])\n",
    "        print(\"debug 5. grad = \", grad)\n",
    "        \n",
    "        x[idx] = temp_val\n",
    "        it.iternext()\n",
    "    return grad\n",
    "\n",
    "f = lambda w : func1(w)\n",
    "\n",
    "w = np.array([3.0])\n",
    "\n",
    "ret = numerical_derivative(f,w)\n",
    "print(\"========================================\")\n",
    "\n",
    "print('type(ret) = ',type(ret), ', ret_val = ', ret)"
   ]
  },
  {
   "cell_type": "code",
   "execution_count": 28,
   "id": "23bd80fa",
   "metadata": {},
   "outputs": [
    {
     "name": "stdout",
     "output_type": "stream",
     "text": [
      "type =  <class 'numpy.ndarray'> ret_val =  [ 8.         15.00000001]\n"
     ]
    }
   ],
   "source": [
    "import numpy as np\n",
    "\n",
    "def func2(input_obj):\n",
    "    x = input_obj[0]\n",
    "    y = input_obj[1]\n",
    "    \n",
    "    return (2*x)+(3*x*y)+(np.power(y,3))\n",
    "\n",
    "def numerical_derivative(f,x):\n",
    "    delta_x = 1e-4\n",
    "    \n",
    "    grad = np.zeros_like(x)\n",
    "    \n",
    "    it = np.nditer(x,flags=['multi_index'],op_flags=['readwrite'])\n",
    "    \n",
    "    while not it.finished:\n",
    "        idx = it.multi_index\n",
    "        temp_val = x[idx]\n",
    "        \n",
    "        x[idx] = float(temp_val)+delta_x\n",
    "        fx1 = f(x)\n",
    "        \n",
    "        x[idx] = float(temp_val)-delta_x\n",
    "        fx2 = f(x)\n",
    "        \n",
    "        grad[idx] = (fx1 - fx2) / (2*delta_x)\n",
    "        \n",
    "        x[idx] = temp_val\n",
    "        \n",
    "        it.iternext()\n",
    "    return grad\n",
    "\n",
    "input = np.array([1.0,2.0])\n",
    "\n",
    "\n",
    "ret = numerical_derivative(func2,input)\n",
    "\n",
    "print(\"type = \",type(ret), \"ret_val = \", ret)\n",
    "    \n",
    "\n",
    "\n",
    "# f(x,y) = 2x+3xy+y3 에대하여수치미분코드 numerical_derivative 함수를 이용해서\n",
    "# f′ 1.0, 2.0 계산하는코드를구현하시오"
   ]
  },
  {
   "cell_type": "code",
   "execution_count": 32,
   "id": "b9c72661",
   "metadata": {},
   "outputs": [
    {
     "name": "stdout",
     "output_type": "stream",
     "text": [
      "ret type =  <class 'numpy.ndarray'> ret =  [[ 5. 13.]\n",
      " [32. 15.]]\n"
     ]
    }
   ],
   "source": [
    "import numpy as np\n",
    "\n",
    "def func3(input_obj):\n",
    "    w = input_obj[0,0]\n",
    "    x = input_obj[0,1]\n",
    "    y = input_obj[1,0]\n",
    "    z = input_obj[1,1]\n",
    "    return (w*x)+(x*y*z)+(3*w)+(z*np.power(y,2))\n",
    "\n",
    "def numerical_derivaitive(f,x):\n",
    "    delta_x = 1e-4\n",
    "    grad = np.zeros_like(x)\n",
    "    \n",
    "    it = np.nditer(x,flags=['multi_index'],op_flags=['readwrite'])\n",
    "    \n",
    "    while not it.finished:\n",
    "        idx = it.multi_index\n",
    "        \n",
    "        temp_val = x[idx]\n",
    "        \n",
    "        x[idx] = float(temp_val) + delta_x\n",
    "        fx1 = f(x)\n",
    "        \n",
    "        x[idx] = float(temp_val) - delta_x\n",
    "        fx2 = f(x)\n",
    "        \n",
    "        grad[idx] = (fx1 - fx2) / (2*delta_x)\n",
    "        \n",
    "        x[idx] = temp_val\n",
    "        it.iternext()\n",
    "        \n",
    "    return grad\n",
    "\n",
    "input = np.array([[1.0,2.0],[3.0,4.0]])\n",
    "\n",
    "ret = numerical_derivaitive(func3,input)\n",
    "\n",
    "print(\"ret type = \",type(ret), \"ret = \", ret)\n",
    "    \n",
    "# 수치미분 코드 numerical_derivative 함수를 이용해서 \n",
    "# 다 음과 같은 행렬을 입력으로 받는 4변수 함수 f(w, x, y, z) 에서 미분 값을 구하는 코드를 구현하시오\n",
    "# 1.0 2.0\n",
    "# 3.0 4.0\n",
    "# wx + xyz + 3w + zy^2"
   ]
  },
  {
   "cell_type": "code",
   "execution_count": null,
   "id": "880f36a2",
   "metadata": {},
   "outputs": [],
   "source": []
  }
 ],
 "metadata": {
  "kernelspec": {
   "display_name": "Python 3 (ipykernel)",
   "language": "python",
   "name": "python3"
  },
  "language_info": {
   "codemirror_mode": {
    "name": "ipython",
    "version": 3
   },
   "file_extension": ".py",
   "mimetype": "text/x-python",
   "name": "python",
   "nbconvert_exporter": "python",
   "pygments_lexer": "ipython3",
   "version": "3.9.6"
  }
 },
 "nbformat": 4,
 "nbformat_minor": 5
}
